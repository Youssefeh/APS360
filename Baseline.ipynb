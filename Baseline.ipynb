{
 "cells": [
  {
   "cell_type": "code",
   "execution_count": null,
   "metadata": {},
   "outputs": [],
   "source": [
    "import torch\n",
    "import torch.nn as nn\n",
    "import torch.nn.functional as F\n",
    "import torch.optim as optim #for gradient descent\n",
    "#Artifical Neural Network Architecture\n",
    "class ANNClassifier(nn.Module):\n",
    "    def __init__(self):\n",
    "        super(ANNClassifier, self).__init__()\n",
    "        self.fc1 = nn.Linear(512*384, 70)\n",
    "        self.fc2 = nn.Linear(70, 30)\n",
    "        self.fc2 = nn.Linear(30, 10)\n",
    "        self.fc2 = nn.Linear(10, 6)\n",
    "\n",
    "\n",
    "    def forward(self, x):\n",
    "        x = x.view(-1, 512*384) #flatten feature data\n",
    "        x = F.prerelu(self.fc1(x))\n",
    "        x = self.fc2(x)\n",
    "        return x"
   ]
  }
 ],
 "metadata": {
  "language_info": {
   "name": "python"
  },
  "orig_nbformat": 4
 },
 "nbformat": 4,
 "nbformat_minor": 2
}
